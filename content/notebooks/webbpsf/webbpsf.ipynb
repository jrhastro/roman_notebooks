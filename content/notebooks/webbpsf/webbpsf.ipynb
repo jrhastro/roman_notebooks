{
 "cells": [
  {
   "cell_type": "markdown",
   "id": "009cb37f-c5ce-4ab0-8ff5-822820c2f8dc",
   "metadata": {
    "slideshow": {
     "slide_type": "slide"
    }
   },
   "source": [
    "# Draft: WebbPSF Tutorial"
   ]
  },
  {
   "cell_type": "markdown",
   "id": "0bf47fa8-811c-4a39-8d1a-768ead56aec7",
   "metadata": {
    "slideshow": {
     "slide_type": "skip"
    }
   },
   "source": [
    "***"
   ]
  },
  {
   "cell_type": "markdown",
   "id": "2c742062-e38a-44d9-ba8e-d9f8e1da59f5",
   "metadata": {
    "slideshow": {
     "slide_type": "slide"
    }
   },
   "source": [
    "## Introduction\n",
    "**WebbPSF** is a realistic point spread function (PSF) simulator developed by the Space Telescope Science Institute that, despite the name, supports both Roman and the James Webb Space Telescope. For Roman's Wide Field Imager (WFI), it harnesses the NASA Goddard Space Flight Center's latest optical models (including field-dependent aberrations across the sensor chip assembly) to create these simulations. There is also an experimental module for Roman's Coronagraph Instrument.\n",
    "\n",
    "This notebook serves as an introduction to simulating Roman WFI PSFs and computing standard PSF properties like full width at half maximum and encircled energy. Before you begin, be sure that you have not only installed WebbPSF but also downloaded its required input data files."
   ]
  },
  {
   "cell_type": "markdown",
   "id": "a042726f-3f6e-4c5e-afb8-61ce94203c46",
   "metadata": {
    "slideshow": {
     "slide_type": "slide"
    }
   },
   "source": [
    "## Imports\n",
    "\n",
    "Besides `webbpsf`, the `matplotlib`-related imports will help visualize simulated PSFs and their derivatives."
   ]
  },
  {
   "cell_type": "code",
   "execution_count": null,
   "id": "9b5fe555-9fd7-424a-bd8d-4464b33913a0",
   "metadata": {
    "slideshow": {
     "slide_type": "fragment"
    }
   },
   "outputs": [],
   "source": [
    "%matplotlib inline\n",
    "from matplotlib import pyplot as plt\n",
    "import matplotlib\n",
    "import webbpsf"
   ]
  },
  {
   "cell_type": "markdown",
   "id": "8d611320-085b-4683-be9f-88cd62c417a5",
   "metadata": {},
   "source": [
    "We also edit `matplotlib` configuration parameters to make figures larger by default and prevent any smoothing of pixel edges."
   ]
  },
  {
   "cell_type": "code",
   "execution_count": null,
   "id": "19ee728d-1620-4156-916c-b504800d8e8f",
   "metadata": {},
   "outputs": [],
   "source": [
    "matplotlib.rcParams['figure.figsize'] = (16, 7)\n",
    "matplotlib.rcParams['image.interpolation'] = 'nearest'"
   ]
  },
  {
   "cell_type": "markdown",
   "id": "4a6ea601-e8b5-4857-a498-46add036bef9",
   "metadata": {},
   "source": [
    "***"
   ]
  },
  {
   "cell_type": "markdown",
   "id": "88af2135-586b-4dea-97a0-b4737e3b6239",
   "metadata": {},
   "source": [
    "## Examples"
   ]
  },
  {
   "cell_type": "markdown",
   "id": "28dc1d3a-b44b-4f2b-adae-ea6d85a0329d",
   "metadata": {},
   "source": [
    "* Quick PSF calculation (overview)\n",
    "* PSF with default parameters (tutorial)... materially the same as above?)\n",
    "* PSF with specified parameters (tutorial)\n",
    "* PSF profile and encircled energy (tutorial)"
   ]
  },
  {
   "cell_type": "markdown",
   "id": "cf9456f2-7b1f-4c9d-a425-b5c2d8e46f07",
   "metadata": {},
   "source": [
    "### Quick PSF generation"
   ]
  },
  {
   "cell_type": "markdown",
   "id": "95a4df88-c21c-49a1-9ed1-e688659aaca7",
   "metadata": {},
   "source": [
    "#### Default parameters\n",
    "\n",
    "After selecting the proper instrument (the Roman WFI), generating a PSF can be as short as a single line."
   ]
  },
  {
   "cell_type": "code",
   "execution_count": null,
   "id": "cb52176e-b3eb-464a-a688-09091807aabe",
   "metadata": {},
   "outputs": [],
   "source": [
    "wfi = webbpsf.roman.WFI()\n",
    "\n",
    "default_psf = wfi.calc_psf(display=True)"
   ]
  },
  {
   "cell_type": "markdown",
   "id": "1d5258f4-7dba-4809-a810-c7af013ad41d",
   "metadata": {},
   "source": [
    "It is also possible to visualize the PSF after creating it."
   ]
  },
  {
   "cell_type": "code",
   "execution_count": null,
   "id": "c198c669-a764-4ab8-a74d-4fc78e25379a",
   "metadata": {},
   "outputs": [],
   "source": [
    "webbpsf.display_psf(default_psf, ext='DET_SAMP')"
   ]
  },
  {
   "cell_type": "markdown",
   "id": "da4aae41-37f7-4c70-acff-e4fdfb08f3e1",
   "metadata": {},
   "source": [
    "The PSF object has functionality for saving its contents to disk for later use."
   ]
  },
  {
   "cell_type": "code",
   "execution_count": null,
   "id": "6e686499-d5b4-4757-92e9-f0e765afc04d",
   "metadata": {},
   "outputs": [],
   "source": [
    "default_psf.writeto('default_PSF.fits', overwrite=True)"
   ]
  },
  {
   "cell_type": "markdown",
   "id": "ce925bd6-f752-4bf5-9f95-58f22b46d6d7",
   "metadata": {},
   "source": [
    "#### Custom parameters\n",
    "\n",
    "You can simulate custom PSFs by modifying instrument class attributes like the detector, filter/grism, and many more **LINK**."
   ]
  },
  {
   "cell_type": "code",
   "execution_count": null,
   "id": "cb92168f-4964-4632-960a-2188fe379938",
   "metadata": {},
   "outputs": [],
   "source": [
    "wfi.filter = 'GRISM1'\n",
    "wfi.detector = 'SCA14'\n",
    "wfi.detector_position = (1024, 1024)\n",
    " \n",
    "custom_psf = wfi.calc_psf(display=True)"
   ]
  },
  {
   "cell_type": "markdown",
   "id": "1656717f-e346-482d-aed8-cf28a8e6c42f",
   "metadata": {},
   "source": [
    "_To generate several individual PSFs from a grid (without having to perform a full calculation at each location), WebbPSF implements the `GriddedPSFModel` class from `photutils`. Learn more about that use case [in the WebbPSF documentation](https://webbpsf.readthedocs.io/en/latest/psf_grids.html)._"
   ]
  },
  {
   "cell_type": "markdown",
   "id": "cbacace1-589d-4a65-98cf-610f040b5276",
   "metadata": {},
   "source": [
    "### PSF profile and encircled energy"
   ]
  },
  {
   "cell_type": "markdown",
   "id": "30824e3e-21cb-4150-851b-e8f4b2935ee4",
   "metadata": {},
   "source": [
    "Once you've simulated a PSF, WebbPSF offers a method that measures its profile, full width and half maximum (FWHM), and encircled energy."
   ]
  },
  {
   "cell_type": "code",
   "execution_count": null,
   "id": "b30dace1-aa74-4194-913f-55ec3d11d47f",
   "metadata": {},
   "outputs": [],
   "source": [
    "src = webbpsf.specFromSpectralType('G0V', catalog='phoenix')\n",
    "poly_psf = wfi.calc_psf(source=src, nlambda=10, display=False)"
   ]
  },
  {
   "cell_type": "code",
   "execution_count": null,
   "id": "7c87e6bb-ca73-4532-9731-efc3de77ecaa",
   "metadata": {},
   "outputs": [],
   "source": [
    "plt.figure(figsize=(8,6))\n",
    "webbpsf.display_profiles(poly_psf)"
   ]
  },
  {
   "cell_type": "markdown",
   "id": "70ca0e4c-f605-40e5-be34-053ff5643297",
   "metadata": {},
   "source": [
    "## Aditional Resources\n",
    "While this isn't always necessary, sometimes you want to provide some more resources for the reader who wants to learn something beyond what's in the notebook. Sometimes these don't exist, but if they do, it's good to put them at the end to give the reader somewhere else to go. Usually a list of links using markdown bullet-plus-link format is appropriate:\n",
    "\n",
    "- [MAST API](https://mast.stsci.edu/api/v0/index.html)\n",
    "- [Kepler Archive Page (MAST)](https://archive.stsci.edu/kepler/)\n",
    "- [Kepler Archive Manual](https://archive.stsci.edu/kepler/manuals/archive_manual.pdf)\n",
    "- [Exo.MAST website](https://exo.mast.stsci.edu/exo/ExoMast/html/exomast.html)"
   ]
  },
  {
   "cell_type": "markdown",
   "id": "497f1db5-297a-4ac4-8cfc-b989dd10683a",
   "metadata": {
    "slideshow": {
     "slide_type": "slide"
    }
   },
   "source": [
    "## About this notebook\n",
    "Let the world know who the author of this great notebook is! If possible/appropriate, include a contact email address for users who might need support (e.g. archive@stsci.edu)\n",
    "\n",
    "**Author:** Justin Otor, Staff Scientist II.  \n",
    "**Updated In:** 2024-05"
   ]
  },
  {
   "cell_type": "markdown",
   "id": "4d1c7c95-0eee-46d3-8e2a-0cf4f7e3dd40",
   "metadata": {},
   "source": [
    "***"
   ]
  },
  {
   "cell_type": "markdown",
   "id": "73de59d5-7c55-4db1-b965-0c1e60ab58c4",
   "metadata": {},
   "source": [
    "[Top of Page](#top)\n",
    "<img style=\"float: right;\" src=\"https://raw.githubusercontent.com/spacetelescope/notebooks/master/assets/stsci_pri_combo_mark_horizonal_white_bkgd.png\" alt=\"Space Telescope Logo\" width=\"200px\"/> "
   ]
  }
 ],
 "metadata": {
  "kernelspec": {
   "display_name": "Python [conda env:base]",
   "language": "python",
   "name": "conda-base-py"
  },
  "language_info": {
   "codemirror_mode": {
    "name": "ipython",
    "version": 3
   },
   "file_extension": ".py",
   "mimetype": "text/x-python",
   "name": "python",
   "nbconvert_exporter": "python",
   "pygments_lexer": "ipython3",
   "version": "3.8.5"
  }
 },
 "nbformat": 4,
 "nbformat_minor": 5
}
