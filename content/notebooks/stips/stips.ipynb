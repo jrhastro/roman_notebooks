{
 "cells": [
  {
   "cell_type": "markdown",
   "metadata": {
    "slideshow": {
     "slide_type": "slide"
    }
   },
   "source": [
    "# Draft: STIPS Tutorial"
   ]
  },
  {
   "cell_type": "markdown",
   "metadata": {
    "slideshow": {
     "slide_type": "skip"
    }
   },
   "source": [
    "***"
   ]
  },
  {
   "cell_type": "markdown",
   "metadata": {
    "slideshow": {
     "slide_type": "slide"
    }
   },
   "source": [
    "## Introduction\n",
    "\n",
    "**STIPS**, or the Space Telescope Imaging Product Simulator, is a tool developed by the Space Telescope Science Institute for simulating observations with the full array of detectors on the Roman Wide Field Imager (WFI).\n",
    "\n",
    "Though it trades some accuracy in order to capture the full array of detectors simulations – see the Pandeia Tutorial for higher accuracy simulations of smaller areas – STIPS simulations do take Roman's exposure-level pipeline (\"Level 2\") into account. This means generated scenes come with readouts of many calibration residuals. Scenes are also returned with Poisson and readout noise estimates and can incorporate instrumental distortion.\n",
    "\n",
    "This notebook is a starter guide to simulating and manipulating scenes with STIPS. STIPS requires separate reference data both for itself and for some of its dependencies, so be sure you've followed the complete installation instructions before attempting to run the notebook."
   ]
  },
  {
   "cell_type": "markdown",
   "metadata": {},
   "source": [
    "## Imports\n",
    "\n",
    "Besides the STIPS-related imports, `astropy.io.fits` will help write a FITS table on the fly."
   ]
  },
  {
   "cell_type": "code",
   "execution_count": null,
   "metadata": {},
   "outputs": [],
   "source": [
    "import stips\n",
    "\n",
    "from astropy.io import fits\n",
    "from stips.observation_module import ObservationModule\n",
    "from stips.scene_module import SceneModule\n",
    "\n",
    "# USE PYTHON 3.11\n",
    "# GET EXAMPLE FILE IN LAST TUTORIAL (PSFs + adding sources)"
   ]
  },
  {
   "cell_type": "markdown",
   "metadata": {},
   "source": [
    "### Environment report\n",
    "\n",
    "To verify the existing STIPS installation alongside its associated data files and dependencies, run the cell below.\n",
    "\n",
    "[SAY SHOULD MATCH https://stips.readthedocs.io/en/latest/installation.html#stips-requirements ??]"
   ]
  },
  {
   "cell_type": "code",
   "execution_count": null,
   "metadata": {},
   "outputs": [],
   "source": [
    "print(stips.__env__report__)"
   ]
  },
  {
   "cell_type": "markdown",
   "metadata": {},
   "source": [
    "***"
   ]
  },
  {
   "cell_type": "markdown",
   "metadata": {},
   "source": [
    "## Examples"
   ]
  },
  {
   "cell_type": "markdown",
   "metadata": {},
   "source": [
    "* Installation test (overview) -- included in Intro/Import section\n",
    "* Basic STIPS usage (tutorial)\n",
    "* Generating scene from user-based catalog (tutorial)\n",
    "* Modifying observation parameters (tutorial)\n",
    "* PSFs and adding sources"
   ]
  },
  {
   "cell_type": "markdown",
   "metadata": {},
   "source": [
    "### Basic STIPS usage"
   ]
  },
  {
   "cell_type": "raw",
   "metadata": {},
   "source": [
    "# Build observation parameters\n",
    "obs = {'instrument': 'WFI',\n",
    "       'filters': ['F129'],\n",
    "       'detectors': 1,\n",
    "       'background': 'pandeia',\n",
    "       'observations_id': 42,\n",
    "       'exptime': 300,\n",
    "       'offsets': [{'offset_id': 1,\n",
    "                    'offset_centre': False,\n",
    "                    'offset_ra': 0.0,\n",
    "                    'offset_dec': 0.0,\n",
    "                    'offset_pa': 0.0\n",
    "                   }]\n",
    "      }"
   ]
  },
  {
   "cell_type": "code",
   "execution_count": null,
   "metadata": {},
   "outputs": [],
   "source": [
    "# Build observation parameters\n",
    "obs = {'instrument': 'WFI', 'filters': ['F129'], 'detectors': 1,\n",
    "       'background': 'pandeia', 'observations_id': 42, 'exptime': 300,\n",
    "       'offsets': [{'offset_id': 1, 'offset_centre': False, 'offset_ra': 0.0,\n",
    "                    'offset_dec': 0.0, 'offset_pa': 0.0}]\n",
    "      }"
   ]
  },
  {
   "cell_type": "code",
   "execution_count": null,
   "metadata": {},
   "outputs": [],
   "source": [
    "# Create observation object\n",
    "obm = ObservationModule(obs, ra=90, dec=30, pa=0, seed=42, cores=6)"
   ]
  },
  {
   "cell_type": "code",
   "execution_count": 1,
   "metadata": {},
   "outputs": [
    {
     "data": {
      "text/plain": [
       "'################################################################################'"
      ]
     },
     "execution_count": 1,
     "metadata": {},
     "output_type": "execute_result"
    }
   ],
   "source": [
    "'#' * 80"
   ]
  },
  {
   "cell_type": "code",
   "execution_count": 7,
   "metadata": {},
   "outputs": [],
   "source": [
    "rm ../webbpsf_tutorial/webbpsf_tutorial.ipynb ../pandeia_tutorial/pandeia_tutorial.ipynb"
   ]
  },
  {
   "cell_type": "markdown",
   "metadata": {},
   "source": [
    "#### Create a simple astronomical scene"
   ]
  },
  {
   "cell_type": "markdown",
   "metadata": {},
   "source": [
    "* `id`: Object ID\n",
    "* `ra`: Right ascension (RA), in degrees\n",
    "* `dec`: Declination (DEC), in degrees\n",
    "* `flux`: Flux, in `units` (defined below)\n",
    "* `type`: Type of PROFILE(???) (`'point'` or `'sersic'`)\n",
    "* `n`: Sersic profile index (in what system???)\n",
    "* `re`: Half-light radius, in pixels\n",
    "* `phi`: Position angle of major axis, in degrees\n",
    "* `ratio`: Major and minor axis ratio\n",
    "* `notes`: Per-source comments\n",
    "* `units`: ???"
   ]
  },
  {
   "cell_type": "code",
   "execution_count": null,
   "metadata": {},
   "outputs": [],
   "source": [
    "from astropy.io import fits\n",
    " \n",
    "cols = []\n",
    "cols.append(fits.Column(name='id', array=[1, 2], format='K'))\n",
    "cols.append(fits.Column(name='ra', array=[90.02, 90.03], format='E'))\n",
    "cols.append(fits.Column(name='dec', array=[29.98, 29.97], format='D'))\n",
    "cols.append(fits.Column(name='flux', array=[0.00023, 0.0004], format='D'))\n",
    "cols.append(fits.Column(name='type', array=['point', 'point'], format='8A'))\n",
    "cols.append(fits.Column(name='n', array=[0, 0], format='D'))\n",
    "cols.append(fits.Column(name='re', array=[0, 0], format='D'))\n",
    "cols.append(fits.Column(name='phi', array=[0, 0], format='D'))\n",
    "cols.append(fits.Column(name='ratio', array=[0, 0], format='D'))\n",
    "cols.append(fits.Column(name='notes', array=['', ''], format='8A'))\n",
    "cols.append(fits.Column(name='units', array=['j', 'j'], format='8A'))\n",
    " \n",
    "# Create output fits table\n",
    "hdut = fits.BinTableHDU.from_columns(cols)\n",
    "hdut.header['TYPE'] = 'mixed'\n",
    "hdut.header['FILTER'] = 'F129'\n",
    " \n",
    "# Write to disk\n",
    "cat_file = 'catalog.fits'\n",
    "hdut.writeto(cat_file, overwrite=True)"
   ]
  },
  {
   "cell_type": "markdown",
   "metadata": {},
   "source": [
    "#### Simulate an image"
   ]
  },
  {
   "cell_type": "code",
   "execution_count": null,
   "metadata": {},
   "outputs": [],
   "source": [
    "# Initialize the local instrument\n",
    "obm.nextObservation()\n",
    " \n",
    "# Add catalog with sources\n",
    "cat_name = obm.addCatalogue(cat_file)\n",
    " \n",
    "# Add error to image\n",
    "psf_file = obm.addError()"
   ]
  },
  {
   "cell_type": "code",
   "execution_count": null,
   "metadata": {},
   "outputs": [],
   "source": [
    "# Call the final method\n",
    "fits_file, mosaic_file, params = obm.finalize(mosaic=False)\n",
    "print(f\"Output FITS file is {fits_file}\")"
   ]
  },
  {
   "cell_type": "code",
   "execution_count": null,
   "metadata": {},
   "outputs": [],
   "source": [
    "# DISPLAY IMAGE"
   ]
  },
  {
   "cell_type": "markdown",
   "metadata": {},
   "source": [
    "### Generate scene from a user-created catalog"
   ]
  },
  {
   "cell_type": "code",
   "execution_count": null,
   "metadata": {},
   "outputs": [],
   "source": [
    "# USE SAME OBS PARAMS FOR BOTH CATALOGS\n",
    "obs_prefix = 'notebook_example'\n",
    "obs_ra = 150.0\n",
    "obs_dec = -2.5"
   ]
  },
  {
   "cell_type": "code",
   "execution_count": null,
   "metadata": {},
   "outputs": [],
   "source": [
    "# STELLAR\n",
    "scm_stellar = SceneModule(out_prefix=obs_prefix, ra=obs_ra, dec=obs_dec)\n",
    " \n",
    "stellar_parameters = {\n",
    "                      'n_stars': 100,\n",
    "                      'age_low': 7.5e12,\n",
    "                      'age_high': 7.5e12,\n",
    "                      'z_low': -2.0,\n",
    "                      'z_high': -2.0,\n",
    "                      'imf': 'salpeter',\n",
    "                      'alpha': -2.35,\n",
    "                      'binary_fraction': 0.1,\n",
    "                      'clustered': True,\n",
    "                      'distribution': 'invpow',\n",
    "                      'radius': 100.0,\n",
    "                      'radius_units': 'pc',\n",
    "                      'distance_low': 20.0,\n",
    "                      'distance_high': 20.0,\n",
    "                      'offset_ra': 0.0,\n",
    "                      'offset_dec': 0.0\n",
    "                     }\n",
    " \n",
    "stellar_cat_file = scm_stellar.CreatePopulation(stellar_parameters)\n",
    "print(f\"Stellar population saved to file {stellar_cat_file}\")"
   ]
  },
  {
   "cell_type": "code",
   "execution_count": null,
   "metadata": {},
   "outputs": [],
   "source": [
    "# GALACTIC\n",
    "scm_galactic = SceneModule(out_prefix=obs_prefix, ra=obs_ra, dec=obs_dec)\n",
    "  \n",
    "galaxy_parameters = {\n",
    "                     'n_gals': 10,\n",
    "                     'z_low': 0.0,\n",
    "                     'z_high': 0.2,\n",
    "                     'rad_low': 0.01,\n",
    "                     'rad_high': 2.0,\n",
    "                     'sb_v_low': 30.0,\n",
    "                     'sb_v_high': 25.0,\n",
    "                     'distribution': 'uniform',\n",
    "                     'clustered': False,\n",
    "                     'radius': 200.0,\n",
    "                     'radius_units': 'arcsec',\n",
    "                     'offset_ra': 0.0,\n",
    "                     'offset_dec': 0.0,\n",
    "                    }\n",
    " \n",
    "galaxy_cat_file = scm_galactic.CreateGalaxies(galaxy_parameters)\n",
    "print(f\"Galaxy population saved to file {galaxy_cat_file}\")"
   ]
  },
  {
   "cell_type": "code",
   "execution_count": null,
   "metadata": {},
   "outputs": [],
   "source": [
    "# HOW DOES THIS RELATE TO OTHERS?\n",
    "offset_1 = {\n",
    "          'offset_id': 1,\n",
    "          'offset_centre': False,\n",
    "          'offset_ra': 2.0,\n",
    "          'offset_dec': 0.0,\n",
    "          'offset_pa': 0.5\n",
    "          }\n",
    " \n",
    "residuals_1 = {\n",
    "             'residual_flat': True,\n",
    "             'residual_dark': True,\n",
    "             'residual_cosmic': False,\n",
    "             'residual_poisson': False,\n",
    "             'residual_readnoise': False\n",
    "            }\n",
    " \n",
    "observation_parameters_1 = {\n",
    "                          'instrument': 'WFI',\n",
    "                          'filters': ['F129'],\n",
    "                          'detectors': 3,\n",
    "                          'distortion': True,\n",
    "                          'background': 0.24,\n",
    "                          'observations_id': 1,\n",
    "                          'exptime': 1500,\n",
    "                          'offsets': [offset]\n",
    "                          }\n",
    " \n",
    "obm_1 = ObservationModule(observation_parameters_1, out_prefix=obs_prefix,\n",
    "                          ra=obs_ra, dec=obs_dec, residual=residuals_1)\n",
    " \n",
    "obm_1.nextObservation()"
   ]
  },
  {
   "cell_type": "markdown",
   "metadata": {},
   "source": [
    "### Modify observation parameters"
   ]
  },
  {
   "cell_type": "code",
   "execution_count": null,
   "metadata": {},
   "outputs": [],
   "source": [
    "offset_2 = {\n",
    "          'offset_id': 1,\n",
    "          'offset_centre': False,\n",
    "          'offset_ra': 10.0,\n",
    "          'offset_dec': 0.0,\n",
    "          'offset_pa': 27\n",
    "          }\n",
    " \n",
    "residuals_2 = {\n",
    "             'residual_flat': True,\n",
    "             'residual_dark': False,\n",
    "             'residual_cosmic': False,\n",
    "             'residual_poisson': False,\n",
    "             'residual_readnoise': True\n",
    "            }\n",
    " \n",
    "observation_parameters_2 = {\n",
    "                          'instrument': 'WFI',\n",
    "                          'filters': ['F129'],\n",
    "                          'detectors': 3,\n",
    "                          'distortion': True,\n",
    "                          'background': 0.24,\n",
    "                          'observations_id': 1,\n",
    "                          'exptime': 1500,\n",
    "                          'offsets': [offset]\n",
    "                          }\n",
    " \n",
    "obm_2 = ObservationModule(observation_parameters_2, out_prefix=obs_prefix, ra=obs_ra, dec=obs_dec, residual=residuals_2)\n",
    " \n",
    "obm_2.nextObservation()"
   ]
  },
  {
   "cell_type": "markdown",
   "metadata": {},
   "source": [
    "### Add artifical point source to an observation"
   ]
  },
  {
   "cell_type": "code",
   "execution_count": null,
   "metadata": {},
   "outputs": [],
   "source": [
    "with fits.open('psf_WFI_2.0.0_F129_sca01.fits') as hdul:\n",
    "    test_psf = stips.utilities.makePSF.make_epsf(hdul[0].data)"
   ]
  },
  {
   "cell_type": "code",
   "execution_count": null,
   "metadata": {},
   "outputs": [],
   "source": [
    "# VARS SEEM DIFFERENT – DOES THIS NEED CODE FROM PREVIOUS EXAMPLES? IF NOT, RDOX REFERENCE\n",
    "# TO COPYING EXAMPLE 2 CODE IS WRONG."
   ]
  },
  {
   "cell_type": "code",
   "execution_count": null,
   "metadata": {},
   "outputs": [],
   "source": [
    "offset = {\n",
    "          'offset_id': 1,\n",
    "          'offset_centre': False,\n",
    "          'offset_ra': 0.0,\n",
    "          'offset_dec': 0.0,\n",
    "          'offset_pa': 0.0\n",
    "         }\n",
    " \n",
    "observation_parameters = {\n",
    "                          'instrument': 'WFI',\n",
    "                          'filters': ['F129'],\n",
    "                          'detectors': 1,\n",
    "                          'distortion': False,\n",
    "                          'background': 0.15,\n",
    "                          'observations_id': 1,\n",
    "                          'exptime': 1000,\n",
    "                          'offsets': [offset]\n",
    "                         }\n",
    " \n",
    "obm = ObservationModule(observation_parameters, out_prefix=obs_prefix, ra=obs_ra, dec=obs_dec)\n",
    " \n",
    "# nextObservation is called to move between different combinations of offset and filter.\n",
    "# It must be called once in order to initialize the observation module to the first observation before adding catalogs.\n",
    "obm.nextObservation()\n",
    " \n",
    "output_stellar_catalogs = obm.addCatalogue(stellar_cat_file)\n",
    "output_galaxy_catalogs = obm.addCatalogue(galaxy_cat_file)\n",
    " \n",
    "print(f\"Output Catalogs are {output_stellar_catalogs} and {output_galaxy_catalogs}.\")\n",
    " \n",
    "psf_file = obm.addError()\n",
    " \n",
    "print(\"PSF File is {psf_file}\")\n",
    " \n",
    "fits_file, mosaic_file, params = obm.finalize(mosaic=False)\n",
    " \n",
    "print(f\"Output FITS file is {fits_file}\")\n",
    "print(f\"Output Mosaic File is {mosaic_file}\")\n",
    "print(f\"Observation Parameters are {params}\")"
   ]
  },
  {
   "cell_type": "markdown",
   "metadata": {},
   "source": [
    "## Aditional Resources\n",
    "While this isn't always necessary, sometimes you want to provide some more resources for the reader who wants to learn something beyond what's in the notebook. Sometimes these don't exist, but if they do, it's good to put them at the end to give the reader somewhere else to go. Usually a list of links using markdown bullet-plus-link format is appropriate:\n",
    "\n",
    "- [MAST API](https://mast.stsci.edu/api/v0/index.html)\n",
    "- [Kepler Archive Page (MAST)](https://archive.stsci.edu/kepler/)\n",
    "- [Kepler Archive Manual](https://archive.stsci.edu/kepler/manuals/archive_manual.pdf)\n",
    "- [Exo.MAST website](https://exo.mast.stsci.edu/exo/ExoMast/html/exomast.html)"
   ]
  },
  {
   "cell_type": "markdown",
   "metadata": {
    "slideshow": {
     "slide_type": "slide"
    }
   },
   "source": [
    "## About this notebook\n",
    "Let the world know who the author of this great notebook is! If possible/appropriate, include a contact email address for users who might need support (e.g. archive@stsci.edu)\n",
    "\n",
    "**Author:** Justin Otor, Staff Scientist II.  \n",
    "**Updated In:** 2024-05"
   ]
  },
  {
   "cell_type": "markdown",
   "metadata": {},
   "source": [
    "***"
   ]
  },
  {
   "cell_type": "markdown",
   "metadata": {},
   "source": [
    "[Top of Page](#top)\n",
    "<img style=\"float: right;\" src=\"https://raw.githubusercontent.com/spacetelescope/notebooks/master/assets/stsci_pri_combo_mark_horizonal_white_bkgd.png\" alt=\"Space Telescope Logo\" width=\"200px\"/> "
   ]
  }
 ],
 "metadata": {
  "kernelspec": {
   "display_name": "Python [conda env:base]",
   "language": "python",
   "name": "conda-base-py"
  },
  "language_info": {
   "codemirror_mode": {
    "name": "ipython",
    "version": 3
   },
   "file_extension": ".py",
   "mimetype": "text/x-python",
   "name": "python",
   "nbconvert_exporter": "python",
   "pygments_lexer": "ipython3",
   "version": "3.8.5"
  }
 },
 "nbformat": 4,
 "nbformat_minor": 4
}
