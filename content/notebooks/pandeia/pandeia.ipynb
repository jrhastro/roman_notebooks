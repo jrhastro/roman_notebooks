{
 "cells": [
  {
   "cell_type": "markdown",
   "id": "0290a873-1aa5-4a61-8fa6-5e835c23ecfb",
   "metadata": {
    "slideshow": {
     "slide_type": "slide"
    }
   },
   "source": [
    "# Draft: Pandeia Tutorial"
   ]
  },
  {
   "cell_type": "markdown",
   "id": "2e56a935-ade2-4948-afcf-757efe5be8e5",
   "metadata": {
    "slideshow": {
     "slide_type": "skip"
    }
   },
   "source": [
    "***"
   ]
  },
  {
   "cell_type": "markdown",
   "id": "69496441-f1c0-4325-b125-8f23397e7dc5",
   "metadata": {
    "slideshow": {
     "slide_type": "slide"
    }
   },
   "source": [
    "## Introduction\n",
    "**Pandeia** is a high-fidelity exposure time calculator developed by the Space Telescope Science Institute to provide optimal observing setups for user-created scenes. It supports the Roman Wide Field Imager (WFI) as well as the James Webb Space Telescope's full complement of instruments.\n",
    "\n",
    "Due to the complexity of its simulations, Pandeia is best used on scenes that encompass 5% of a single WFI detector. (To simulate larger areas, see the STIPS Tutorial.) The parameters returned can then help judge the feasibility of and best settings for a fully fledged observing proposal for Roman.\n",
    "\n",
    "This notebook walks through brief examples of common use cases. Before you begin, be sure that your environment is properly equipped for Pandeia – that includes both installation and downloading the required data files."
   ]
  },
  {
   "cell_type": "markdown",
   "id": "b17611c8-0acc-42ed-9d4c-e4bc4c252e5d",
   "metadata": {
    "slideshow": {
     "slide_type": "slide"
    }
   },
   "source": [
    "## Imports\n",
    "\n",
    "Besides the Pandeia-related imports, `scipy.optimize.minimize_scalar` will help with optimizing signal-to-noise ratios in upcoming examples."
   ]
  },
  {
   "cell_type": "code",
   "execution_count": null,
   "id": "b96c3c70-16d1-4349-8904-00f3828d4f79",
   "metadata": {},
   "outputs": [],
   "source": [
    "from pandeia.engine.calc_utils import build_default_calc\n",
    "from pandeia.engine.perform_calculation import perform_calculation\n",
    "from scipy.optimize import minimize_scalar"
   ]
  },
  {
   "cell_type": "markdown",
   "id": "b6865f31-258d-4cf6-a6a0-1dae41773b02",
   "metadata": {},
   "source": [
    "We set `FILTER` as global variable before beginning since all examples make use of the same F129 imaging filter."
   ]
  },
  {
   "cell_type": "code",
   "execution_count": null,
   "id": "eb47af89-3fc1-4984-b28a-06e0edf6cee4",
   "metadata": {},
   "outputs": [],
   "source": [
    "FILTER = 'f129'"
   ]
  },
  {
   "cell_type": "markdown",
   "id": "2f82fc6f-2cec-4d5b-bd20-fc7d2e8594e8",
   "metadata": {},
   "source": [
    "***"
   ]
  },
  {
   "cell_type": "markdown",
   "id": "8971f3b8-7c8c-4c4e-8f13-756d9597949c",
   "metadata": {},
   "source": [
    "## Examples"
   ]
  },
  {
   "cell_type": "markdown",
   "id": "c4088527-cb26-4dee-999d-76a9803e9997",
   "metadata": {},
   "source": [
    "### Calculate a scene's signal-to-noise ratio"
   ]
  },
  {
   "cell_type": "markdown",
   "id": "d71f2141-8c26-4603-ab24-e391df1f26cc",
   "metadata": {},
   "source": [
    "Simulate a scene with the following observing setup:\n",
    "* Multi-accumulation (MA) table: \"High Latitude Wide Area Survey – Imaging\" (default)\n",
    "* Filter: F129 (defined earlier)\n",
    "* Number of exposures: 3"
   ]
  },
  {
   "cell_type": "code",
   "execution_count": null,
   "id": "41bf5746-e8c1-41ee-8f64-9af598d13022",
   "metadata": {},
   "outputs": [],
   "source": [
    "calc = build_default_calc('roman', 'wfi', 'imaging')\n",
    "\n",
    "calc['configuration']['instrument']['filter'] = FILTER\n",
    "calc['configuration']['detector']['nexp'] = 3"
   ]
  },
  {
   "cell_type": "markdown",
   "id": "1beda2d0-1fa3-4b88-8f4d-ff6f9d9416f2",
   "metadata": {},
   "source": [
    "Next, change the default point source flux to 25 AB magnitudes."
   ]
  },
  {
   "cell_type": "code",
   "execution_count": null,
   "id": "d4a78b80-ce4f-4840-9a28-1426b9bb5925",
   "metadata": {},
   "outputs": [],
   "source": [
    "mag = 25\n",
    "calc['scene'][0]['spectrum']['normalization']['norm_flux'] = mag\n",
    "calc['scene'][0]['spectrum']['normalization']['norm_fluxunit'] = 'abmag'"
   ]
  },
  {
   "cell_type": "markdown",
   "id": "55f5d8ac-126c-4b94-acd6-c26d9bfd63ac",
   "metadata": {},
   "source": [
    "Finally, perform the signal to noise calculation and print the result."
   ]
  },
  {
   "cell_type": "code",
   "execution_count": null,
   "id": "b2d7797c-fa09-49bd-a4e2-3363f6f97358",
   "metadata": {},
   "outputs": [],
   "source": [
    "report = perform_calculation(calc)\n",
    "sn = report['scalar']['sn']\n",
    "print(f'Estimated S/N: {sn:.2f}')"
   ]
  },
  {
   "attachments": {},
   "cell_type": "markdown",
   "id": "44c3825c-ea41-4270-9a8a-b4f347cc59ca",
   "metadata": {},
   "source": [
    "_This step may generate a WARNING from synphot that the spectrum is extrapolated, which can be ignored._\n",
    "\n",
    "_Running Pandeia for Roman may return a warning such as: `if np.log(abs(val)) < -1*precision and val != 0.0`. This is related to a JWST-specific test for float precision, and can be ignored in this case._"
   ]
  },
  {
   "cell_type": "markdown",
   "id": "ca56cbc7-ade0-4cc3-8e21-81a2c1b4edf9",
   "metadata": {},
   "source": [
    "### Estimate optimal limiting magnitude"
   ]
  },
  {
   "cell_type": "markdown",
   "id": "649aa870-fcfd-4188-b2ea-dcc911ae457c",
   "metadata": {},
   "source": [
    "Given an exposure configuration and a set signal-to-noise ratio, you can determine an optimal limiting magnitude by using Pandeia to simulate a range of scenes at different magnitudes. The following functions show how to achieve this result."
   ]
  },
  {
   "cell_type": "code",
   "execution_count": null,
   "id": "e6e68758-cef5-471b-89f1-0877c1d64b26",
   "metadata": {},
   "outputs": [],
   "source": [
    "def _mag2sn_(mag, calc, sntarget):\n",
    "    \"\"\"\n",
    "    Optimize a S/N ratio given a magnitude. This is a helper function used as\n",
    "    an argument for scipy's minimize_scalar() as used in compute_mag().\n",
    "    \n",
    "    Parameters\n",
    "    ----------\n",
    "    mag: TYPE??\n",
    "        The magnitude used in an iteration of minimize_scalar()\n",
    "    calc: TYPE??\n",
    "        A Pandeia calculation object\n",
    "    sntarget: TYPE??\n",
    "        Required S/N from the matching argument of compute_mag()\n",
    "    \n",
    "    \"\"\"\n",
    "    calc['scene'][0]['spectrum']['normalization']['norm_flux'] = mag\n",
    "    etc = perform_calculation(calc)['scalar']\n",
    "    \n",
    "    return (sntarget - etc['sn'])**2\n",
    "\n",
    "\n",
    "def compute_mag(filt, sn, nexp, bracket=(18., 30.), xtol=1e-4):\n",
    "    \"\"\"\n",
    "    Method to compute the magnitude from S/N and number of exposures\n",
    " \n",
    "    Parameters\n",
    "    ----------\n",
    "    filt : str\n",
    "        Name of Roman WFI filter\n",
    "    sn : float\n",
    "        Required S/N\n",
    "    nexp : int\n",
    "        Number of exposures\n",
    "    bracket : tuple\n",
    "        Range of magnitudes to test. default: (18., 30.)\n",
    "    xtold: float, default 1e-4\n",
    "        Target tolerance for minimizer\n",
    " \n",
    "    Returns\n",
    "    -------\n",
    "    mag : float\n",
    "        Optimal magnitude for specified S/N and number of exposures\n",
    "    report: dict\n",
    "        Pandeia dictionary with optimal parameters\n",
    "    \"\"\"\n",
    " \n",
    "    # Set up default Roman observation\n",
    "    calc = build_default_calc('roman', 'wfi', 'imaging')\n",
    " \n",
    "    # Modify defaults to place a source with an AB magnitude\n",
    "    calc['scene'][0]['spectrum']['normalization']['norm_fluxunit'] = 'abmag'\n",
    "    calc['scene'][0]['spectrum']['normalization']['norm_waveunit'] = 'um'\n",
    "      \n",
    "    # Set number of exposures and filter\n",
    "    calc['configuration']['detector']['nexp'] = nexp\n",
    "    calc['configuration']['instrument']['filter'] = filt\n",
    " \n",
    "    res = minimize_scalar(_mag2sn_, bracket=bracket, args=(calc, sn),\n",
    "                          method='brent', options={'xtol': xtol})\n",
    "    mag = res['x']\n",
    "    calc['scene'][0]['spectrum']['normalization']['norm_flux'] = mag\n",
    "    report = perform_calculation(calc)\n",
    "    \n",
    "    return mag, report"
   ]
  },
  {
   "cell_type": "markdown",
   "id": "da7050ff-9bda-44a7-b2d7-5f7bf13716fc",
   "metadata": {},
   "source": [
    "Calculate the optimal limiting magnitude given a **signal-to-noise ratio of 5** and the following observing setup:\n",
    "* Number of exposures: 10\n",
    "* Filter: F129 (defined earlier)"
   ]
  },
  {
   "cell_type": "code",
   "execution_count": null,
   "id": "644bb5db-2a20-4d99-9937-ed6f3c8ca4d7",
   "metadata": {},
   "outputs": [],
   "source": [
    "sn = 5\n",
    "nexp = 10\n",
    "\n",
    "mag, report = compute_mag(FILTER, sn, nexp)\n",
    "print(f'Estimated magnitude: {mag:.2f}') # OJO: EQUALS 27.68?"
   ]
  },
  {
   "cell_type": "markdown",
   "id": "0a547b7c-34d7-4b83-be71-977700f6e244",
   "metadata": {},
   "source": [
    "### Determine optimal number of exposures"
   ]
  },
  {
   "cell_type": "markdown",
   "id": "5ac6de46-83dc-45e6-837c-bcdad99e66bb",
   "metadata": {},
   "source": [
    "If you instead provide a desired magnitude limit and a set signal-to-noise ratio, you can calculate the optimal number of exposures needed to achieve such results for a given MA table. As such, we create alternatives to last example's functions that target a number of exposures instead of a magnitude value."
   ]
  },
  {
   "cell_type": "code",
   "execution_count": null,
   "id": "b363d0f3-a2f6-4953-b4cd-f90872639cce",
   "metadata": {},
   "outputs": [],
   "source": [
    "def _nexp2sn_(nexp, calc, sntarget):\n",
    "    \"\"\"\n",
    "    Optimize a S/N ratio given a number of exposures. This is a helper function\n",
    "    used as an argument for scipy's minimize_scalar() as used in compute_mag().\n",
    "    \n",
    "    Parameters\n",
    "    ----------\n",
    "    nexp : int\n",
    "        The number of exposures used in an iteration of minimize_scalar()\n",
    "    calc : \n",
    "        A Pandeia calculation object\n",
    "    sntarget : \n",
    "        Required S/N from the matching argument of compute_mag()\n",
    "    \"\"\"\n",
    "    calc['configuration']['detector']['nexp'] = int(nexp)\n",
    "    etc = perform_calculation(calc)['scalar']\n",
    "    \n",
    "    return (sntarget - etc['sn'])**2\n",
    "\n",
    "\n",
    "def compute_nexp(filt, sn, mag, bracket=(1, 1000), xtol=0.1):\n",
    "    \"\"\"\n",
    "    Method to compute the number of exposures from S/N and magnitude\n",
    " \n",
    "    Parameters\n",
    "    ----------\n",
    "    filt : str\n",
    "        Name of Roman WFI filter\n",
    "    sn : float\n",
    "        Required S/N\n",
    "    mag : float\n",
    "        AB Magnitude of source\n",
    "    bracket : tuple, default (1, 1000)\n",
    "        Range of magnitudes to test\n",
    "    xtold: float, default 0.1\n",
    "        Target tolerance for minimizer\n",
    " \n",
    "    Returns\n",
    "    -------\n",
    "    nexp : float\n",
    "        Optimal number of exposures for specified S/N and magnitude\n",
    "    report: dict\n",
    "        Pandeia dictionary with optimal parameters\n",
    "    exptime: float\n",
    "        Exposure time for optimal observation\n",
    "    \"\"\"\n",
    " \n",
    "    # Set up default Roman observation\n",
    "    calc = build_default_calc('roman', 'wfi', 'imaging')\n",
    " \n",
    "    # Modify defaults to place a source with an AB magnitude\n",
    "    calc['scene'][0]['spectrum']['normalization']['norm_flux'] = mag\n",
    "    calc['scene'][0]['spectrum']['normalization']['norm_fluxunit'] = 'abmag'\n",
    "    calc['scene'][0]['spectrum']['normalization']['norm_waveunit'] = 'um'\n",
    "      \n",
    "    # Set filter\n",
    "    calc['configuration']['instrument']['filter'] = filt\n",
    " \n",
    "    # Check that the minimum of 1 exposure has a S/N lower than requested,\n",
    "    # otherwise there is no sense in attempting to minimize nexp.\n",
    "    calc['configuration']['detector']['nexp'] = 1\n",
    "    report = perform_calculation(calc)\n",
    "    \n",
    "    if report['scalar']['sn'] > sn:\n",
    "        nexp = 1\n",
    "    else:\n",
    "        res = minimize_scalar(_nexp2sn_, bracket=bracket, bounds=bracket,\n",
    "                              args=(calc, sn), method='bounded',\n",
    "                              options={'xatol': xtol})\n",
    "        nexp = int(res['x'])\n",
    "        calc['configuration']['detector']['nexp'] = nexp\n",
    "        report = perform_calculation(calc)\n",
    " \n",
    "        # this generally returns a S/N less than the required amount.\n",
    "        # let's ensure that we get *AT LEAST* the required S/N for 2 reasons:\n",
    "        # 1) better to err on the side of caution\n",
    "        # 2) make code consistent with the above if clause\n",
    "        if report['scalar']['sn'] < sn:\n",
    "            nexp += 1\n",
    "             \n",
    "    exptime = report['scalar']['total_exposure_time']\n",
    "         \n",
    "    return nexp, report, exptime"
   ]
  },
  {
   "cell_type": "markdown",
   "id": "7687c324-debf-41b9-a586-8bc1d17696a3",
   "metadata": {},
   "source": [
    "Given the following observing setup:\n",
    "* Multi-accumulation (MA) table: \"High Latitude Wide Area Survey – Imaging\" (default)\n",
    "* Filter: F129 (defined earlier)\n",
    "\n",
    "...and these observation parameters:\n",
    "* Signal-to-noise ratio: 20\n",
    "* Source magnitude: 26\n",
    "\n",
    "...we can use the functions above to determine an optimal number of exposures. For completeness, we also print the actual signal-to-noise ratio achieved and the exposure time needed for that result."
   ]
  },
  {
   "cell_type": "code",
   "execution_count": null,
   "id": "bf43823b-777a-4b15-af60-15eef89d6106",
   "metadata": {},
   "outputs": [],
   "source": [
    "sn = 20.\n",
    "mag = 26.\n",
    " \n",
    "nexp, etc, exptime = compute_nexp(FILTER, sn, mag)\n",
    "print(f'number of exposures: {nexp}')\n",
    "print(f'actual S/N reached: {etc[\"scalar\"][\"sn\"]:.2f}')\n",
    "print(f'Exposure time: {exptime:.2f}')"
   ]
  },
  {
   "cell_type": "markdown",
   "id": "d9827124-20f4-46ec-b9eb-a1dbebad24f0",
   "metadata": {},
   "source": [
    "### Modify spectral energy distribution"
   ]
  },
  {
   "cell_type": "markdown",
   "id": "4472bfe7-2102-4469-babd-df9981f315bd",
   "metadata": {},
   "source": [
    "While previous examples assume a flat spectral energy distribution (SED), Pandeia also offers the ability to use a Phoenix model for more complex cases. This example uses the following observing setup:\n",
    "\n",
    "* Multi-accumulation (MA) table: \"High Latitude Wide Area Survey – Imaging\" (default)\n",
    "* Filter: F129 (defined earlier)\n",
    "* Number of exposures: 3"
   ]
  },
  {
   "cell_type": "code",
   "execution_count": null,
   "id": "26569041-1670-4285-ab13-3a837523b078",
   "metadata": {},
   "outputs": [],
   "source": [
    "calc = build_default_calc('roman', 'wfi', 'imaging')\n",
    "\n",
    "nexp = 3\n",
    "calc['configuration']['detector']['nexp'] = nexp\n",
    "calc['configuration']['instrument']['filter'] = FILTER"
   ]
  },
  {
   "cell_type": "markdown",
   "id": "ae283701-2691-4eb4-affb-467dacc0a23f",
   "metadata": {},
   "source": [
    "Next, calculate a signal-to-noise ratio after making the following modifications to the spectra:\n",
    "* Magnitude: 25 AB magnitudes\n",
    "* SED type: A0V (from Phoenix models)"
   ]
  },
  {
   "cell_type": "code",
   "execution_count": null,
   "id": "95a2da69-828a-4e0f-9c79-10de708b2f5e",
   "metadata": {},
   "outputs": [],
   "source": [
    "mag = 25\n",
    "calc['scene'][0]['spectrum']['normalization']['norm_flux'] = mag\n",
    "calc['scene'][0]['spectrum']['normalization']['norm_fluxunit'] = 'abmag'\n",
    " \n",
    "calc['scene'][0]['spectrum']['sed']['sed_type'] = 'phoenix'\n",
    "calc['scene'][0]['spectrum']['sed']['key'] = 'a0v'"
   ]
  },
  {
   "cell_type": "code",
   "execution_count": null,
   "id": "d42f91b9-9759-4254-a35d-c54f2b6dc872",
   "metadata": {},
   "outputs": [],
   "source": [
    "report = perform_calculation(calc)\n",
    "sn = report['scalar']['sn']\n",
    "print(f'Estimated S/N: {sn:.2f}')"
   ]
  },
  {
   "cell_type": "markdown",
   "id": "f3b4f34e-6dab-4d83-8f0e-0dc900c0e2b6",
   "metadata": {},
   "source": [
    "## Aditional Resources\n",
    "\n",
    "- The Roman User Documentation's [\"Pandeia for Roman\"](https://roman-docs.stsci.edu/simulation-tools-handbook-home/pandeia-for-roman) page and associated overview.\n",
    "- Full API references for [Pandeia Engine inputs](https://outerspace.stsci.edu/display/PEN/Pandeia+Engine+Input+API) and [Pandeia Engine outputs](https://outerspace.stsci.edu/display/PEN/Pandeia+Engine+Output+API).\n",
    "- The [Roman Help Desk](https://roman-docs.stsci.edu/roman-help-desk-at-stsci), an official outlet for user questions about Pandeia."
   ]
  },
  {
   "cell_type": "markdown",
   "id": "34407a8d-b357-40b9-b87f-eb1bd783f80a",
   "metadata": {
    "slideshow": {
     "slide_type": "slide"
    }
   },
   "source": [
    "## About this notebook\n",
    "\n",
    "**Author:** Justin Otor, Staff Scientist II.  \n",
    "**Updated In:** 2024-05"
   ]
  },
  {
   "cell_type": "markdown",
   "id": "8f685f1a-0099-488e-8a05-578c67143729",
   "metadata": {},
   "source": [
    "***"
   ]
  },
  {
   "cell_type": "markdown",
   "id": "828cc7ad-e828-4c14-ad63-93468accbd6e",
   "metadata": {},
   "source": [
    "[Top of Page](#top)\n",
    "<img style=\"float: right;\" src=\"https://raw.githubusercontent.com/spacetelescope/notebooks/master/assets/stsci_pri_combo_mark_horizonal_white_bkgd.png\" alt=\"Space Telescope Logo\" width=\"200px\"/> "
   ]
  }
 ],
 "metadata": {
  "kernelspec": {
   "display_name": "Python 3 (ipykernel)",
   "language": "python",
   "name": "python3"
  },
  "language_info": {
   "codemirror_mode": {
    "name": "ipython",
    "version": 3
   },
   "file_extension": ".py",
   "mimetype": "text/x-python",
   "name": "python",
   "nbconvert_exporter": "python",
   "pygments_lexer": "ipython3",
   "version": "3.11.9"
  }
 },
 "nbformat": 4,
 "nbformat_minor": 5
}
